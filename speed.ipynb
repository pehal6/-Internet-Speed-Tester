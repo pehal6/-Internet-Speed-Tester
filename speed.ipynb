{
  "nbformat": 4,
  "nbformat_minor": 0,
  "metadata": {
    "colab": {
      "provenance": []
    },
    "kernelspec": {
      "name": "python3",
      "display_name": "Python 3"
    },
    "language_info": {
      "name": "python"
    }
  },
  "cells": [
    {
      "cell_type": "code",
      "source": [
        "import speedtest\n",
        "\n",
        "def test_internet_speed():\n",
        "    print(\"🔍 Testing your internet speed... Please wait.\")\n",
        "    st = speedtest.Speedtest()\n",
        "    download_speed = st.download() / 1_000_000\n",
        "    upload_speed = st.upload() / 1_000_000      # Convert to Mbps\n",
        "\n",
        "    print(f\"\\n📥 Download Speed: {download_speed:.2f} Mbps\")\n",
        "    print(f\"📤 Upload Speed: {upload_speed:.2f} Mbps\")\n",
        "\n",
        "if __name__ == \"__main__\":\n",
        "    test_internet_speed()\n"
      ],
      "metadata": {
        "id": "sXFoNH7n-d8s"
      },
      "execution_count": null,
      "outputs": []
    }
  ]
}